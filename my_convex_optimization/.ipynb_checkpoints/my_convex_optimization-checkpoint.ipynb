{
 "cells": [
  {
   "cell_type": "code",
   "execution_count": 1,
   "id": "6cda41e9",
   "metadata": {},
   "outputs": [],
   "source": [
    "import matplotlib.pyplot as plt\n",
    "import numpy as np\n",
    "from scipy.optimize import minimize_scalar\n",
    "from scipy import optimize"
   ]
  },
  {
   "cell_type": "code",
   "execution_count": 2,
   "id": "c6acd2b3",
   "metadata": {},
   "outputs": [
    {
     "data": {
      "image/png": "[encoded data removed]",
      "text/plain": [
       "<Figure size 432x288 with 1 Axes>"
      ]
     },
     "metadata": {
      "needs_background": "light"
     },
     "output_type": "display_data"
    }
   ],
   "source": [
    "def print_a_function(f, values):\n",
    "    \n",
    "    # Generate a range of x-values to plot\n",
    "    x_values = np.linspace(-2, 2, 1000)\n",
    "\n",
    "    # Calculate the corresponding y-values for each x-value\n",
    "    y_values = f(x_values)\n",
    "\n",
    "    # Create the plot\n",
    "    plt.plot(x_values, y_values)\n",
    "\n",
    "    # Add a title and axis labels\n",
    "    plt.title(\"Graph of f(x) = (x - 1)^4 + x^2\")\n",
    "    plt.xlabel(\"x\")\n",
    "    plt.ylabel(\"f(x)\")\n",
    "\n",
    "    # Display the plot\n",
    "    plt.show()\n",
    "\n",
    "f = lambda x : (x - 1)**4 + x**2\n",
    "values = (-2, 2, 1000)\n",
    "print_a_function(f, values)"
   ]
  },
  {
   "cell_type": "code",
   "execution_count": 3,
   "id": "d28bbe25",
   "metadata": {},
   "outputs": [],
   "source": [
    "def find_root(f, a, b):\n",
    "    \"\"\"\n",
    "    Uses the bisection method to find a zero of the function f(x) within the interval [a, b].\n",
    "    Returns the value of x such that |f(x)| < 0.001.\n",
    "    \"\"\"\n",
    "    while abs(b - a) > 0.001:\n",
    "        # Calculate the midpoint of the interval\n",
    "        c = (a + b) / 2\n",
    "        \n",
    "        # Evaluate f(a), f(b), and f(c)\n",
    "        fa = f(a)\n",
    "        fb = f(b)\n",
    "        fc = f(c)\n",
    "        \n",
    "        # Check if f(c) is zero, or if the interval [a, c] or [c, b] contains a zero of f(x)\n",
    "        if fc == 0 or (fa < 0 and fc > 0) or (fa > 0 and fc < 0):\n",
    "            b = c\n",
    "        elif (fb < 0 and fc > 0) or (fb > 0 and fc < 0):\n",
    "            a = c\n",
    "        else:\n",
    "            # There are no zeros in the interval [a, b]\n",
    "            return None\n",
    "    \n",
    "    # Return the midpoint of the final interval as the zero of the function\n",
    "    return (a + b) / 2"
   ]
  },
  {
   "cell_type": "code",
   "execution_count": 4,
   "id": "c1cdc327",
   "metadata": {},
   "outputs": [],
   "source": [
    "def f_prime(x):\n",
    "    return 4*(x - 1)**3 + 2*x"
   ]
  },
  {
   "cell_type": "code",
   "execution_count": 5,
   "id": "0c54288d",
   "metadata": {},
   "outputs": [
    {
     "name": "stdout",
     "output_type": "stream",
     "text": [
      "0.41046142578125\n"
     ]
    }
   ],
   "source": [
    "root = find_root(f_prime, -10, 10)\n",
    "print(root)"
   ]
  },
  {
   "cell_type": "code",
   "execution_count": 6,
   "id": "90ba862f",
   "metadata": {},
   "outputs": [
    {
     "name": "stdout",
     "output_type": "stream",
     "text": [
      "x_min: .02f, f(x_min): .02f (0.41024548853416215, 0.2892734239377779)\n"
     ]
    },
    {
     "data": {
      "text/plain": [
       "<matplotlib.legend.Legend at 0x7ff311ba2d30>"
      ]
     },
     "execution_count": 6,
     "metadata": {},
     "output_type": "execute_result"
    },
    {
     "data": {
      "image/png": "[encoded data removed]",
      "text/plain": [
       "<Figure size 432x288 with 1 Axes>"
      ]
     },
     "metadata": {
      "needs_background": "light"
     },
     "output_type": "display_data"
    }
   ],
   "source": [
    "f = lambda x : (x - 1)**4 + x**2\n",
    "res = minimize_scalar(f, method='brent')\n",
    "print('x_min: .02f, f(x_min): .02f',  (res.x, res.fun))\n",
    "\n",
    "# plot curve\n",
    "x = np.linspace(res.x - 1, res.x + 1, 100)\n",
    "y = [f(val) for val in x]\n",
    "plt.plot(x, y, color='blue', label='f')\n",
    "\n",
    "# plot optima\n",
    "plt.scatter(res.x, res.fun, color='red', marker='x', label='Minimum')\n",
    "\n",
    "plt.grid()\n",
    "plt.legend(loc = 1)"
   ]
  },
  {
   "cell_type": "code",
   "execution_count": 13,
   "id": "91669f60",
   "metadata": {},
   "outputs": [],
   "source": [
    "def find_root_bisection(f, min_val, max_val, tol=1e-6, max_iter=100):\n",
    "    \"\"\"\n",
    "    Find the root of function f within the range [min_val, max_val] using the bisection method.\n",
    "\n",
    "    Parameters:\n",
    "    f (function): The function to find the root of.\n",
    "    min_val (float): The minimum value of the range.\n",
    "    max_val (float): The maximum value of the range.\n",
    "    tol (float): The tolerance for the root. Default is 1e-6.\n",
    "    max_iter (int): The maximum number of iterations. Default is 100.\n",
    "\n",
    "    Returns:\n",
    "    float: The root of the function.\n",
    "\n",
    "    Raises:\n",
    "    ValueError: If the function has the same sign at the endpoints.\n",
    "    \"\"\"\n",
    "    f_min_val = f(min_val)\n",
    "    f_max_val = f(max_val)\n",
    "    \n",
    "    for i in range(max_iter):\n",
    "        mid_val = (min_val + max_val) / 2\n",
    "        f_mid_val = f(mid_val)\n",
    "        if abs(f_mid_val) < tol:\n",
    "            return mid_val\n",
    "        if f_mid_val * f_min_val < 0:\n",
    "            max_val = mid_val\n",
    "            f_max_val = f_mid_val\n",
    "        else:\n",
    "            min_val = mid_val\n",
    "            f_min_val = f_mid_val\n",
    "    return mid_val"
   ]
  },
  {
   "cell_type": "code",
   "execution_count": 8,
   "id": "623df40d",
   "metadata": {},
   "outputs": [],
   "source": [
    "def find_root_newton_raphson(f, f_deriv, x_0, tol=1e-6, max_iter=1000):\n",
    "    \"\"\"\n",
    "    Find a root of a function using the Newton-Raphson's method.\n",
    "\n",
    "    Parameters:\n",
    "    f (function): The function for which the root is to be found.\n",
    "    f_deriv (function): The derivative of the function f.\n",
    "    x_0 (float): The initial guess for the root.\n",
    "    tol (float): The tolerance for the root. The default value is 1e-6.\n",
    "    max_iter (int): The maximum number of iterations. The default value is 1000.\n",
    "\n",
    "    Returns:\n",
    "    float: The root of the function f.\n",
    "    \"\"\"\n",
    "    x_n = x_0\n",
    "    for i in range(max_iter):\n",
    "        f_val = f(x_n)\n",
    "        f_deriv_val = f_deriv(x_n)\n",
    "        x_n1 = x_n - f_val / f_deriv_val\n",
    "        if abs(x_n1 - x_n) < tol:\n",
    "            return x_n1\n",
    "        x_n = x_n1\n",
    "    raise ValueError(\"Maximum number of iterations exceeded.\")"
   ]
  },
  {
   "cell_type": "code",
   "execution_count": 9,
   "id": "b0c5e9b0",
   "metadata": {},
   "outputs": [],
   "source": [
    "def gradient_descent(f, f_prime, start, learning_rate=0.1, eps=1e-6):\n",
    "    x = start\n",
    "    while True:\n",
    "        grad = f_prime(x)\n",
    "        x_new = x - learning_rate * grad\n",
    "        if abs(x_new - x) < eps:\n",
    "            return x_new\n",
    "        x = x_new"
   ]
  },
  {
   "cell_type": "code",
   "execution_count": 10,
   "id": "d463d76d",
   "metadata": {},
   "outputs": [
    {
     "name": "stdout",
     "output_type": "stream",
     "text": [
      "xmin: 0.2f, f(x_min): 0.2f (0.41023044092999633, 0.2892734246366677)\n"
     ]
    }
   ],
   "source": [
    "f = lambda x : (x - 1) ** 4 + x ** 2\n",
    "f_prime = lambda x : 4*((x-1)**3) + 2*x\n",
    "start = -1\n",
    "x_min = gradient_descent(f, f_prime, start, 0.01)\n",
    "f_min = f(x_min)\n",
    "\n",
    "print(\"xmin: 0.2f, f(x_min): 0.2f\",  (x_min, f_min))"
   ]
  },
  {
   "cell_type": "code",
   "execution_count": 11,
   "id": "141de9fa",
   "metadata": {},
   "outputs": [
    {
     "name": "stdout",
     "output_type": "stream",
     "text": [
      "The optimal value is:  -11.0  and is reached for x =  [3. 4.]\n"
     ]
    }
   ],
   "source": [
    "A = np.array([[2,1],[-4,5],[1,-2]])\n",
    "b = np.array([10,8,3])\n",
    "c = np.array([-1,-2])\n",
    "\n",
    "def solve_linear_problem(A, b, c):\n",
    "    result = optimize.linprog(c = c, A_ub = A, b_ub = b)\n",
    "    return round(result.fun, 1), result.x\n",
    "\n",
    "    \n",
    "\n",
    "optimal_value, optimal_arg = solve_linear_problem(A, b, c)\n",
    "\n",
    "print(\"The optimal value is: \", optimal_value, \" and is reached for x = \", optimal_arg)"
   ]
  }
 ],
 "metadata": {
  "kernelspec": {
   "display_name": "Python 3",
   "language": "python",
   "name": "python3"
  },
  "language_info": {
   "codemirror_mode": {
    "name": "ipython",
    "version": 3
   },
   "file_extension": ".py",
   "mimetype": "text/x-python",
   "name": "python",
   "nbconvert_exporter": "python",
   "pygments_lexer": "ipython3",
   "version": "3.6.7"
  }
 },
 "nbformat": 4,
 "nbformat_minor": 5
}
